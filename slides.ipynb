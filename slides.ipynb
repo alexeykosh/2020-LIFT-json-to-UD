{
 "cells": [
  {
   "cell_type": "markdown",
   "metadata": {
    "slideshow": {
     "slide_type": "slide"
    }
   },
   "source": [
    "# De Elan à Universal Dependencies\n",
    "# From Elan to Universal Dependecies\n",
    "\n",
    "&nbsp;\n",
    "\n",
    "### Alexey Koshevoy\n",
    "Département d'études cognitives, ENS"
   ]
  },
  {
   "cell_type": "markdown",
   "metadata": {
    "slideshow": {
     "slide_type": "slide"
    }
   },
   "source": [
    "## Structure of the tutorial \n",
    "\n",
    "- Introduction\n",
    "    - Data, data structure\n",
    "    - Required packages, required repositories\n",
    "- From .eaf to .conll\n",
    "- Adding morphological annotation"
   ]
  },
  {
   "cell_type": "markdown",
   "metadata": {
    "slideshow": {
     "slide_type": "slide"
    }
   },
   "source": [
    "## Introduction \n",
    "\n",
    "- Data from the Abaza language (<Northwest-Caucasian)\n",
    "- Spoken corpus on the tsakorpus enjine (engine by T. Arkhangelsky, corpus by E. Sokur and A. Panova), with its proprietary .eaf-to-.json pipeline\n",
    "- 25 .eaf files containing glossed and segmented annotation\n"
   ]
  },
  {
   "cell_type": "markdown",
   "metadata": {
    "slideshow": {
     "slide_type": "slide"
    }
   },
   "source": [
    "## From .eaf to .conll\n",
    "\n",
    "- How does the inital data look?\n",
    "\n",
    "![](eaf_looks.png)\n",
    "\n",
    "#### Required layers: \n",
    "\n",
    "- Orthography layer (if there is some written tradition, it's better to use it instead of IPA)\n",
    "- Word-by-word segmentation level\n",
    "- Glosses for each word"
   ]
  },
  {
   "cell_type": "markdown",
   "metadata": {
    "slideshow": {
     "slide_type": "subslide"
    }
   },
   "source": []
  },
  {
   "cell_type": "code",
   "execution_count": 1,
   "metadata": {
    "slideshow": {
     "slide_type": "slide"
    }
   },
   "outputs": [
    {
     "name": "stdout",
     "output_type": "stream",
     "text": [
      "ELAN/Repka_AjsanovaFB_11072017.eaf\n",
      "Parsing unknown version of ELAN spec... This could result in errors...\n",
      "ELAN/Deti_v_pole_SanashokovaCKh_13072017.eaf\n",
      "Parsing unknown version of ELAN spec... This could result in errors...\n"
     ]
    }
   ],
   "source": [
    "from EafToUD import EafToUD\n",
    "\n",
    "a = EafToUD(directory='ELAN', sent_tier='Orth-txt-abq', morph_tier='Gloss-gls-ru')\n",
    "a.make_conll_file('trial.conll')"
   ]
  },
  {
   "cell_type": "code",
   "execution_count": null,
   "metadata": {},
   "outputs": [],
   "source": []
  }
 ],
 "metadata": {
  "celltoolbar": "Slideshow",
  "kernelspec": {
   "display_name": "Python 3",
   "language": "python",
   "name": "python3"
  },
  "language_info": {
   "codemirror_mode": {
    "name": "ipython",
    "version": 3
   },
   "file_extension": ".py",
   "mimetype": "text/x-python",
   "name": "python",
   "nbconvert_exporter": "python",
   "pygments_lexer": "ipython3",
   "version": "3.8.1"
  }
 },
 "nbformat": 4,
 "nbformat_minor": 4
}
